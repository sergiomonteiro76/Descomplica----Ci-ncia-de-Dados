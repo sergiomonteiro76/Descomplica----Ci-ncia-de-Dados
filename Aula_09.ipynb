{
  "nbformat": 4,
  "nbformat_minor": 0,
  "metadata": {
    "colab": {
      "provenance": []
    },
    "kernelspec": {
      "name": "python3",
      "display_name": "Python 3"
    },
    "language_info": {
      "name": "python"
    }
  },
  "cells": [
    {
      "cell_type": "markdown",
      "source": [
        "##****Análise de Correspondência****\n",
        "**prof: Sergio Assuncao Monteiro, DSc**\n",
        "\n",
        "*   linkedin: https://www.linkedin.com/in/sergio-assun%C3%A7%C3%A3o-monteiro-b781897b/\n",
        "*   lattes: http://lattes.cnpq.br/9489191035734025"
      ],
      "metadata": {
        "id": "rLdepbT8UfFv"
      }
    },
    {
      "cell_type": "markdown",
      "source": [
        "**Instalar Pacote**"
      ],
      "metadata": {
        "id": "HM9EnXYvUkwu"
      }
    },
    {
      "cell_type": "code",
      "execution_count": 1,
      "metadata": {
        "colab": {
          "base_uri": "https://localhost:8080/"
        },
        "id": "Q_DijZOIUZWK",
        "outputId": "bf56b8bd-ad78-4b11-c6cd-0c93ee620798"
      },
      "outputs": [
        {
          "output_type": "stream",
          "name": "stdout",
          "text": [
            "Looking in indexes: https://pypi.org/simple, https://us-python.pkg.dev/colab-wheels/public/simple/\n",
            "Collecting prince\n",
            "  Downloading prince-0.10.3-py3-none-any.whl (414 kB)\n",
            "\u001b[2K     \u001b[90m━━━━━━━━━━━━━━━━━━━━━━━━━━━━━━━━━━━━━━━\u001b[0m \u001b[32m414.6/414.6 kB\u001b[0m \u001b[31m4.8 MB/s\u001b[0m eta \u001b[36m0:00:00\u001b[0m\n",
            "\u001b[?25hRequirement already satisfied: altair<5.0.0,>=4.2.2 in /usr/local/lib/python3.9/dist-packages (from prince) (4.2.2)\n",
            "Requirement already satisfied: scikit-learn<2.0.0,>=1.0.2 in /usr/local/lib/python3.9/dist-packages (from prince) (1.2.2)\n",
            "Requirement already satisfied: pandas<3.0.0,>=1.4.1 in /usr/local/lib/python3.9/dist-packages (from prince) (1.5.3)\n",
            "Requirement already satisfied: jinja2 in /usr/local/lib/python3.9/dist-packages (from altair<5.0.0,>=4.2.2->prince) (3.1.2)\n",
            "Requirement already satisfied: toolz in /usr/local/lib/python3.9/dist-packages (from altair<5.0.0,>=4.2.2->prince) (0.12.0)\n",
            "Requirement already satisfied: jsonschema>=3.0 in /usr/local/lib/python3.9/dist-packages (from altair<5.0.0,>=4.2.2->prince) (4.3.3)\n",
            "Requirement already satisfied: numpy in /usr/local/lib/python3.9/dist-packages (from altair<5.0.0,>=4.2.2->prince) (1.22.4)\n",
            "Requirement already satisfied: entrypoints in /usr/local/lib/python3.9/dist-packages (from altair<5.0.0,>=4.2.2->prince) (0.4)\n",
            "Requirement already satisfied: pytz>=2020.1 in /usr/local/lib/python3.9/dist-packages (from pandas<3.0.0,>=1.4.1->prince) (2022.7.1)\n",
            "Requirement already satisfied: python-dateutil>=2.8.1 in /usr/local/lib/python3.9/dist-packages (from pandas<3.0.0,>=1.4.1->prince) (2.8.2)\n",
            "Requirement already satisfied: joblib>=1.1.1 in /usr/local/lib/python3.9/dist-packages (from scikit-learn<2.0.0,>=1.0.2->prince) (1.2.0)\n",
            "Requirement already satisfied: threadpoolctl>=2.0.0 in /usr/local/lib/python3.9/dist-packages (from scikit-learn<2.0.0,>=1.0.2->prince) (3.1.0)\n",
            "Requirement already satisfied: scipy>=1.3.2 in /usr/local/lib/python3.9/dist-packages (from scikit-learn<2.0.0,>=1.0.2->prince) (1.10.1)\n",
            "Requirement already satisfied: pyrsistent!=0.17.0,!=0.17.1,!=0.17.2,>=0.14.0 in /usr/local/lib/python3.9/dist-packages (from jsonschema>=3.0->altair<5.0.0,>=4.2.2->prince) (0.19.3)\n",
            "Requirement already satisfied: attrs>=17.4.0 in /usr/local/lib/python3.9/dist-packages (from jsonschema>=3.0->altair<5.0.0,>=4.2.2->prince) (23.1.0)\n",
            "Requirement already satisfied: six>=1.5 in /usr/local/lib/python3.9/dist-packages (from python-dateutil>=2.8.1->pandas<3.0.0,>=1.4.1->prince) (1.16.0)\n",
            "Requirement already satisfied: MarkupSafe>=2.0 in /usr/local/lib/python3.9/dist-packages (from jinja2->altair<5.0.0,>=4.2.2->prince) (2.1.2)\n",
            "Installing collected packages: prince\n",
            "Successfully installed prince-0.10.3\n"
          ]
        }
      ],
      "source": [
        "!pip install prince"
      ]
    },
    {
      "cell_type": "markdown",
      "source": [
        "**Importar Dados**"
      ],
      "metadata": {
        "id": "G4FEqqdOUord"
      }
    },
    {
      "cell_type": "code",
      "source": [
        "import pandas as pd \n",
        "import prince\n",
        "import matplotlib.pyplot as plt\n",
        "\n",
        "dados = pd.read_csv('https://archive.ics.uci.edu/ml/machine-learning-databases/balloons/adult+stretch.data')\n",
        "dados.columns = ['Color', 'Size', 'Action', 'Age', 'Inflated']\n",
        "print(dados.head())"
      ],
      "metadata": {
        "colab": {
          "base_uri": "https://localhost:8080/"
        },
        "id": "G_Hdxaq4Ur50",
        "outputId": "c3b13049-cb32-4bff-e9a9-10fdba67f4b6"
      },
      "execution_count": 2,
      "outputs": [
        {
          "output_type": "stream",
          "name": "stdout",
          "text": [
            "    Color   Size   Action    Age Inflated\n",
            "0  YELLOW  SMALL  STRETCH  ADULT        T\n",
            "1  YELLOW  SMALL  STRETCH  CHILD        F\n",
            "2  YELLOW  SMALL      DIP  ADULT        F\n",
            "3  YELLOW  SMALL      DIP  CHILD        F\n",
            "4  YELLOW  LARGE  STRETCH  ADULT        T\n"
          ]
        }
      ]
    },
    {
      "cell_type": "markdown",
      "source": [
        "**Realizar a Análise de Correspondência**"
      ],
      "metadata": {
        "id": "ONqiXl8eUuh9"
      }
    },
    {
      "cell_type": "code",
      "source": [
        "m_analise_correspondencia = prince.MCA(n_components = 2)\n",
        "m_analise_correspondencia = m_analise_correspondencia.fit(dados) "
      ],
      "metadata": {
        "id": "VwsxqFmHUw-N"
      },
      "execution_count": 3,
      "outputs": []
    },
    {
      "cell_type": "markdown",
      "source": [
        "**Exibir Dados da Anáalise de Correspondência**"
      ],
      "metadata": {
        "id": "Sd56yYN3UzmW"
      }
    },
    {
      "cell_type": "code",
      "source": [
        "m_analise_correspondencia.plot(dados)"
      ],
      "metadata": {
        "colab": {
          "base_uri": "https://localhost:8080/",
          "height": 369
        },
        "id": "zVLE34AZU1oe",
        "outputId": "df534d02-7485-46b4-b71b-297e4a31c086"
      },
      "execution_count": 4,
      "outputs": [
        {
          "output_type": "execute_result",
          "data": {
            "text/html": [
              "\n",
              "<div id=\"altair-viz-94a781ffa3674ab1aaf32982cfff878e\"></div>\n",
              "<script type=\"text/javascript\">\n",
              "  var VEGA_DEBUG = (typeof VEGA_DEBUG == \"undefined\") ? {} : VEGA_DEBUG;\n",
              "  (function(spec, embedOpt){\n",
              "    let outputDiv = document.currentScript.previousElementSibling;\n",
              "    if (outputDiv.id !== \"altair-viz-94a781ffa3674ab1aaf32982cfff878e\") {\n",
              "      outputDiv = document.getElementById(\"altair-viz-94a781ffa3674ab1aaf32982cfff878e\");\n",
              "    }\n",
              "    const paths = {\n",
              "      \"vega\": \"https://cdn.jsdelivr.net/npm//vega@5?noext\",\n",
              "      \"vega-lib\": \"https://cdn.jsdelivr.net/npm//vega-lib?noext\",\n",
              "      \"vega-lite\": \"https://cdn.jsdelivr.net/npm//vega-lite@4.17.0?noext\",\n",
              "      \"vega-embed\": \"https://cdn.jsdelivr.net/npm//vega-embed@6?noext\",\n",
              "    };\n",
              "\n",
              "    function maybeLoadScript(lib, version) {\n",
              "      var key = `${lib.replace(\"-\", \"\")}_version`;\n",
              "      return (VEGA_DEBUG[key] == version) ?\n",
              "        Promise.resolve(paths[lib]) :\n",
              "        new Promise(function(resolve, reject) {\n",
              "          var s = document.createElement('script');\n",
              "          document.getElementsByTagName(\"head\")[0].appendChild(s);\n",
              "          s.async = true;\n",
              "          s.onload = () => {\n",
              "            VEGA_DEBUG[key] = version;\n",
              "            return resolve(paths[lib]);\n",
              "          };\n",
              "          s.onerror = () => reject(`Error loading script: ${paths[lib]}`);\n",
              "          s.src = paths[lib];\n",
              "        });\n",
              "    }\n",
              "\n",
              "    function showError(err) {\n",
              "      outputDiv.innerHTML = `<div class=\"error\" style=\"color:red;\">${err}</div>`;\n",
              "      throw err;\n",
              "    }\n",
              "\n",
              "    function displayChart(vegaEmbed) {\n",
              "      vegaEmbed(outputDiv, spec, embedOpt)\n",
              "        .catch(err => showError(`Javascript Error: ${err.message}<br>This usually means there's a typo in your chart specification. See the javascript console for the full traceback.`));\n",
              "    }\n",
              "\n",
              "    if(typeof define === \"function\" && define.amd) {\n",
              "      requirejs.config({paths});\n",
              "      require([\"vega-embed\"], displayChart, err => showError(`Error loading script: ${err.message}`));\n",
              "    } else {\n",
              "      maybeLoadScript(\"vega\", \"5\")\n",
              "        .then(() => maybeLoadScript(\"vega-lite\", \"4.17.0\"))\n",
              "        .then(() => maybeLoadScript(\"vega-embed\", \"6\"))\n",
              "        .catch(showError)\n",
              "        .then(() => displayChart(vegaEmbed));\n",
              "    }\n",
              "  })({\"config\": {\"view\": {\"continuousWidth\": 400, \"continuousHeight\": 300}}, \"data\": {\"name\": \"data-75ea1ffb5ef9c67bcef2919cfb64e99c\"}, \"mark\": {\"type\": \"circle\", \"size\": 50}, \"encoding\": {\"color\": {\"field\": \"variable\", \"type\": \"nominal\"}, \"tooltip\": [{\"field\": \"variable\", \"type\": \"nominal\"}, {\"field\": \"value\", \"type\": \"nominal\"}, {\"field\": \"component 0\", \"type\": \"quantitative\"}, {\"field\": \"component 1\", \"type\": \"quantitative\"}], \"x\": {\"axis\": {\"title\": \"component 0 \\u2014 40.17%\"}, \"field\": \"component 0\", \"scale\": {\"zero\": false}, \"type\": \"quantitative\"}, \"y\": {\"axis\": {\"title\": \"component 1 \\u2014 21.11%\"}, \"field\": \"component 1\", \"scale\": {\"zero\": false}, \"type\": \"quantitative\"}}, \"selection\": {\"selector001\": {\"type\": \"interval\", \"bind\": \"scales\", \"encodings\": [\"x\", \"y\"]}}, \"$schema\": \"https://vega.github.io/schema/vega-lite/v4.17.0.json\", \"datasets\": {\"data-75ea1ffb5ef9c67bcef2919cfb64e99c\": [{\"component 0\": 0.7053867996248322, \"component 1\": 8.415370929731083e-15, \"variable\": \"row\", \"value\": \"0\"}, {\"component 0\": -0.38658629949599077, \"component 1\": 7.681169985281357e-15, \"variable\": \"row\", \"value\": \"1\"}, {\"component 0\": -0.3865862994959909, \"component 1\": 7.685114305130088e-15, \"variable\": \"row\", \"value\": \"2\"}, {\"component 0\": -0.8520140574664057, \"component 1\": 7.314580986361524e-15, \"variable\": \"row\", \"value\": \"3\"}, {\"component 0\": 0.7835387510478179, \"component 1\": -0.6333333333333322, \"variable\": \"row\", \"value\": \"4\"}, {\"component 0\": 0.7835387510478179, \"component 1\": -0.6333333333333322, \"variable\": \"row\", \"value\": \"5\"}, {\"component 0\": -0.308434348073005, \"component 1\": -0.633333333333333, \"variable\": \"row\", \"value\": \"6\"}, {\"component 0\": -0.3084343480730052, \"component 1\": -0.6333333333333331, \"variable\": \"row\", \"value\": \"7\"}, {\"component 0\": -0.77386210604342, \"component 1\": -0.6333333333333334, \"variable\": \"row\", \"value\": \"8\"}, {\"component 0\": 0.7835387510478188, \"component 1\": 0.6333333333333343, \"variable\": \"row\", \"value\": \"9\"}, {\"component 0\": 0.7835387510478188, \"component 1\": 0.6333333333333343, \"variable\": \"row\", \"value\": \"10\"}, {\"component 0\": -0.30843434807300424, \"component 1\": 0.6333333333333335, \"variable\": \"row\", \"value\": \"11\"}, {\"component 0\": -0.30843434807300435, \"component 1\": 0.6333333333333334, \"variable\": \"row\", \"value\": \"12\"}, {\"component 0\": -0.7738621060434191, \"component 1\": 0.6333333333333331, \"variable\": \"row\", \"value\": \"13\"}, {\"component 0\": 0.8616907024708045, \"component 1\": -6.312527916080222e-15, \"variable\": \"row\", \"value\": \"14\"}, {\"component 0\": 0.8616907024708045, \"component 1\": -6.312527916080222e-15, \"variable\": \"row\", \"value\": \"15\"}, {\"component 0\": -0.23028239665001846, \"component 1\": -7.046728860529947e-15, \"variable\": \"row\", \"value\": \"16\"}, {\"component 0\": -0.2302823966500186, \"component 1\": -7.042784540681217e-15, \"variable\": \"row\", \"value\": \"17\"}, {\"component 0\": -0.6957101546204334, \"component 1\": -7.41331785944978e-15, \"variable\": \"row\", \"value\": \"18\"}, {\"component 0\": 0.11730760677191586, \"component 1\": 0.6892024376045043, \"variable\": \"column\", \"value\": \"Color_PURPLE\"}, {\"component 0\": -0.13034178530212884, \"component 1\": -0.7657804862272266, \"variable\": \"column\", \"value\": \"Color_YELLOW\"}, {\"component 0\": 0.11730760677191503, \"component 1\": -0.6892024376045182, \"variable\": \"column\", \"value\": \"Size_LARGE\"}, {\"component 0\": -0.13034178530212792, \"component 1\": 0.7657804862272426, \"variable\": \"column\", \"value\": \"Size_SMALL\"}, {\"component 0\": -0.8538641988881538, \"component 1\": -1.5116272762163326e-16, \"variable\": \"column\", \"value\": \"Action_DIP\"}, {\"component 0\": 0.6209921446459299, \"component 1\": 2.3930151253475735e-16, \"variable\": \"column\", \"value\": \"Action_STRETCH\"}, {\"component 0\": 0.6209921446459298, \"component 1\": 2.0228026143377174e-16, \"variable\": \"column\", \"value\": \"Age_ADULT\"}, {\"component 0\": -0.8538641988881535, \"component 1\": -1.185848273780462e-16, \"variable\": \"column\", \"value\": \"Age_CHILD\"}, {\"component 0\": -0.7314664035372914, \"component 1\": 9.466913482487452e-18, \"variable\": \"column\", \"value\": \"Inflated_F\"}, {\"component 0\": 1.253942406063928, \"component 1\": 1.523178131624523e-16, \"variable\": \"column\", \"value\": \"Inflated_T\"}]}}, {\"mode\": \"vega-lite\"});\n",
              "</script>"
            ],
            "text/plain": [
              "alt.Chart(...)"
            ]
          },
          "metadata": {},
          "execution_count": 4
        }
      ]
    }
  ]
}