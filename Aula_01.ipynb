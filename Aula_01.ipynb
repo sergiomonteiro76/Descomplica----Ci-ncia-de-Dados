{
  "nbformat": 4,
  "nbformat_minor": 0,
  "metadata": {
    "colab": {
      "provenance": []
    },
    "kernelspec": {
      "name": "python3",
      "display_name": "Python 3"
    },
    "language_info": {
      "name": "python"
    }
  },
  "cells": [
    {
      "cell_type": "markdown",
      "source": [
        "##**Introducao ao Python**\n",
        "**prof: Sergio Assuncao Monteiro, DSc**\n",
        "\n",
        "*   linkedin: https://www.linkedin.com/in/sergio-assun%C3%A7%C3%A3o-monteiro-b781897b/\n",
        "*   lattes: http://lattes.cnpq.br/9489191035734025"
      ],
      "metadata": {
        "id": "AXq9ljTVKHVH"
      }
    },
    {
      "cell_type": "markdown",
      "source": [
        "# **Aula 01**"
      ],
      "metadata": {
        "id": "1_7axeaAKKNV"
      }
    },
    {
      "cell_type": "markdown",
      "source": [
        "**Importar Pacote**"
      ],
      "metadata": {
        "id": "r5J8um21Kqeu"
      }
    },
    {
      "cell_type": "code",
      "execution_count": 1,
      "metadata": {
        "id": "AeKj61w2KC7x"
      },
      "outputs": [],
      "source": [
        "import numpy as np"
      ]
    },
    {
      "cell_type": "markdown",
      "source": [
        "**Carregar Dados**"
      ],
      "metadata": {
        "id": "nT6HtCtPKrw-"
      }
    },
    {
      "cell_type": "code",
      "source": [
        "dados =[18.5,\t19.0,\t20,\t19,\t21,\t17,\t18,\t\n",
        "        18,\t19.3,\t20]"
      ],
      "metadata": {
        "id": "hpGrekDCKywm"
      },
      "execution_count": 2,
      "outputs": []
    },
    {
      "cell_type": "markdown",
      "source": [
        "**Exibir Resultados**"
      ],
      "metadata": {
        "id": "xYCyuM_sKzr2"
      }
    },
    {
      "cell_type": "code",
      "source": [
        "print(f'média = {np.average(dados)}')\n",
        "print(f'variância = {np.var(dados)}')\n",
        "print(f'desvio-padrão = {np.std(dados)}')"
      ],
      "metadata": {
        "colab": {
          "base_uri": "https://localhost:8080/"
        },
        "id": "jgf1js52K4pZ",
        "outputId": "0e6ce405-618c-43e4-89d3-9c5c27d4c3ea"
      },
      "execution_count": 3,
      "outputs": [
        {
          "output_type": "stream",
          "name": "stdout",
          "text": [
            "média = 18.98\n",
            "variância = 1.2335999999999998\n",
            "desvio-padrão = 1.1106754701531856\n"
          ]
        }
      ]
    }
  ]
}