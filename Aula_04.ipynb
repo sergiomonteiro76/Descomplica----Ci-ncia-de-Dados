{
  "nbformat": 4,
  "nbformat_minor": 0,
  "metadata": {
    "colab": {
      "provenance": []
    },
    "kernelspec": {
      "name": "python3",
      "display_name": "Python 3"
    },
    "language_info": {
      "name": "python"
    }
  },
  "cells": [
    {
      "cell_type": "markdown",
      "source": [
        "##****Estimação de Parâmetros****\n",
        "**prof: Sergio Assuncao Monteiro, DSc**\n",
        "\n",
        "*   linkedin: https://www.linkedin.com/in/sergio-assun%C3%A7%C3%A3o-monteiro-b781897b/\n",
        "*   lattes: http://lattes.cnpq.br/9489191035734025"
      ],
      "metadata": {
        "id": "mpzO032HMaJV"
      }
    },
    {
      "cell_type": "markdown",
      "source": [
        "**Estimação de Parâmetros**"
      ],
      "metadata": {
        "id": "j8a61BCnMh6s"
      }
    },
    {
      "cell_type": "code",
      "execution_count": 1,
      "metadata": {
        "colab": {
          "base_uri": "https://localhost:8080/"
        },
        "id": "iDtMWeyYMWvK",
        "outputId": "4e0f78fd-5762-4dd0-c675-ceca079e77a2"
      },
      "outputs": [
        {
          "output_type": "stream",
          "name": "stdout",
          "text": [
            "Z=1.959963984540054\n"
          ]
        }
      ],
      "source": [
        "import scipy.stats as st\n",
        "nivel_de_confiancia = 0.95\n",
        "nivel_de_significancia = 1 - nivel_de_confiancia\n",
        "Z=abs(st.norm.ppf(nivel_de_significancia/2))\n",
        "print(f'Z={Z}')"
      ]
    },
    {
      "cell_type": "markdown",
      "source": [
        "**Intervalo de Confiança**"
      ],
      "metadata": {
        "id": "8nPKA1AqMnA0"
      }
    },
    {
      "cell_type": "code",
      "source": [
        "import math\n",
        "tamanho_populacao = 60\n",
        "desvio_padrao = 0.020\n",
        "desvio_padrao_amostral=desvio_padrao/math.sqrt(tamanho_populacao)\n",
        "media_amostral = 0.01\n",
        "lim_sup = media_amostral + Z*desvio_padrao_amostral \n",
        "lim_inf = media_amostral - Z*desvio_padrao_amostral\n",
        "intervalo_de_confianca = (media_amostral-lim_inf, \n",
        "                          media_amostral+lim_sup)\n",
        "print(f'intervalo de confiança={intervalo_de_confianca}')"
      ],
      "metadata": {
        "colab": {
          "base_uri": "https://localhost:8080/"
        },
        "id": "bj7H0FQHMpML",
        "outputId": "92a1c21e-2a61-4e33-996b-52adeb6903ba"
      },
      "execution_count": 2,
      "outputs": [
        {
          "output_type": "stream",
          "name": "stdout",
          "text": [
            "intervalo de confiança=(0.00506060524752664, 0.025060605247526638)\n"
          ]
        }
      ]
    }
  ]
}