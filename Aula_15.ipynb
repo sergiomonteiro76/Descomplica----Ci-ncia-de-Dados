{
  "nbformat": 4,
  "nbformat_minor": 0,
  "metadata": {
    "colab": {
      "provenance": []
    },
    "kernelspec": {
      "name": "python3",
      "display_name": "Python 3"
    },
    "language_info": {
      "name": "python"
    }
  },
  "cells": [
    {
      "cell_type": "markdown",
      "source": [
        "##****Introdução às Séries Temporais****\n",
        "**prof: Sergio Assuncao Monteiro, DSc**\n",
        "\n",
        "*   linkedin: https://www.linkedin.com/in/sergio-assun%C3%A7%C3%A3o-monteiro-b781897b/\n",
        "*   lattes: http://lattes.cnpq.br/9489191035734025"
      ],
      "metadata": {
        "id": "QCysBk53cGD6"
      }
    },
    {
      "cell_type": "markdown",
      "source": [
        "**Importar pacote**"
      ],
      "metadata": {
        "id": "BybTul2wcNRH"
      }
    },
    {
      "cell_type": "code",
      "execution_count": 1,
      "metadata": {
        "id": "NFs0NjibcEKK"
      },
      "outputs": [],
      "source": [
        "import numpy as np"
      ]
    },
    {
      "cell_type": "markdown",
      "source": [
        "**Dados originais**"
      ],
      "metadata": {
        "id": "_rPGUiKUcOAo"
      }
    },
    {
      "cell_type": "code",
      "source": [
        "dados_originais = [3, 5, 1, 6, 7, 8, 6, 9, 9, 10]"
      ],
      "metadata": {
        "id": "MWsPqVY1cOXw"
      },
      "execution_count": 2,
      "outputs": []
    },
    {
      "cell_type": "markdown",
      "source": [
        "**Cálculo das médias móveis**"
      ],
      "metadata": {
        "id": "cqBmiafwcOzZ"
      }
    },
    {
      "cell_type": "code",
      "source": [
        "tamanho_da_janela = 3\n",
        "pesos = np.repeat(1.0, tamanho_da_janela) / tamanho_da_janela\n",
        "medias_moveis = np.convolve(dados_originais, pesos, 'valid')"
      ],
      "metadata": {
        "id": "EwvIjuKecPKI"
      },
      "execution_count": 3,
      "outputs": []
    },
    {
      "cell_type": "markdown",
      "source": [
        "**Imprimir resultados**"
      ],
      "metadata": {
        "id": "aL6VTFfUcPmw"
      }
    },
    {
      "cell_type": "code",
      "source": [
        "print(\"Médias móveis: {}\".format(np.round(medias_moveis,2)))"
      ],
      "metadata": {
        "colab": {
          "base_uri": "https://localhost:8080/"
        },
        "id": "6GiKl4tycQAQ",
        "outputId": "ed352fd6-7479-4771-e06e-9ea3208e58c4"
      },
      "execution_count": 4,
      "outputs": [
        {
          "output_type": "stream",
          "name": "stdout",
          "text": [
            "Médias móveis: [3.   4.   4.67 7.   7.   7.67 8.   9.33]\n"
          ]
        }
      ]
    }
  ]
}