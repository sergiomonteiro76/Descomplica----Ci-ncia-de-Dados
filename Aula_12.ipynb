{
  "nbformat": 4,
  "nbformat_minor": 0,
  "metadata": {
    "colab": {
      "provenance": []
    },
    "kernelspec": {
      "name": "python3",
      "display_name": "Python 3"
    },
    "language_info": {
      "name": "python"
    }
  },
  "cells": [
    {
      "cell_type": "markdown",
      "source": [
        "##****Regressão Fatorial****\n",
        "**prof: Sergio Assuncao Monteiro, DSc**\n",
        "\n",
        "*   linkedin: https://www.linkedin.com/in/sergio-assun%C3%A7%C3%A3o-monteiro-b781897b/\n",
        "*   lattes: http://lattes.cnpq.br/9489191035734025"
      ],
      "metadata": {
        "id": "WAUxAdb1ZjLL"
      }
    },
    {
      "cell_type": "markdown",
      "source": [
        "**Importar Pacotes**"
      ],
      "metadata": {
        "id": "2_iU3LEYZstj"
      }
    },
    {
      "cell_type": "code",
      "execution_count": 1,
      "metadata": {
        "id": "BQFdUHXXZgdk"
      },
      "outputs": [],
      "source": [
        "import numpy as np\n",
        "import statsmodels.api as sm"
      ]
    },
    {
      "cell_type": "markdown",
      "source": [
        "**Criar dados**"
      ],
      "metadata": {
        "id": "6esgy8myZzbi"
      }
    },
    {
      "cell_type": "code",
      "source": [
        "x1 = np.random.normal(size=100)\n",
        "x2 = np.random.normal(size=100)\n",
        "x3 = np.random.normal(size=100)\n",
        "y = 2+3*x1+4*x2+5*x3+np.random.normal(size=100)"
      ],
      "metadata": {
        "id": "20XqW6r1Z2Ko"
      },
      "execution_count": 2,
      "outputs": []
    },
    {
      "cell_type": "markdown",
      "source": [
        "**Ajustar o modelo com termos de interação**"
      ],
      "metadata": {
        "id": "T-nYaCQVZ4Y7"
      }
    },
    {
      "cell_type": "code",
      "source": [
        "X = sm.add_constant(np.column_stack((x1, \n",
        "                                     x2, \n",
        "                                     x3, \n",
        "                                     x1*x2, \n",
        "                                     x1*x3, \n",
        "                                     x2*x3,\n",
        "                                     x1*x2*x3)))"
      ],
      "metadata": {
        "id": "gk1HVJZoZ_Uq"
      },
      "execution_count": 3,
      "outputs": []
    },
    {
      "cell_type": "markdown",
      "source": [
        "**Treinamento**"
      ],
      "metadata": {
        "id": "GE2a_6anaAZi"
      }
    },
    {
      "cell_type": "code",
      "source": [
        "modelo = sm.OLS(y, X).fit()"
      ],
      "metadata": {
        "id": "WdmXXsWtaC8q"
      },
      "execution_count": 4,
      "outputs": []
    },
    {
      "cell_type": "markdown",
      "source": [
        "**Resumo**"
      ],
      "metadata": {
        "id": "GYwa9GjyaDc6"
      }
    },
    {
      "cell_type": "code",
      "source": [
        "print(modelo.summary())"
      ],
      "metadata": {
        "colab": {
          "base_uri": "https://localhost:8080/"
        },
        "id": "WIpq6cbuaFOy",
        "outputId": "dbf64c4d-5389-4138-c684-43714ae55038"
      },
      "execution_count": 5,
      "outputs": [
        {
          "output_type": "stream",
          "name": "stdout",
          "text": [
            "                            OLS Regression Results                            \n",
            "==============================================================================\n",
            "Dep. Variable:                      y   R-squared:                       0.986\n",
            "Model:                            OLS   Adj. R-squared:                  0.985\n",
            "Method:                 Least Squares   F-statistic:                     905.4\n",
            "Date:                Sat, 22 Apr 2023   Prob (F-statistic):           6.56e-82\n",
            "Time:                        14:41:01   Log-Likelihood:                -136.65\n",
            "No. Observations:                 100   AIC:                             289.3\n",
            "Df Residuals:                      92   BIC:                             310.1\n",
            "Df Model:                           7                                         \n",
            "Covariance Type:            nonrobust                                         \n",
            "==============================================================================\n",
            "                 coef    std err          t      P>|t|      [0.025      0.975]\n",
            "------------------------------------------------------------------------------\n",
            "const          1.9069      0.101     18.822      0.000       1.706       2.108\n",
            "x1             2.9357      0.098     29.833      0.000       2.740       3.131\n",
            "x2             4.1146      0.103     39.925      0.000       3.910       4.319\n",
            "x3             4.9474      0.089     55.501      0.000       4.770       5.124\n",
            "x4             0.0763      0.100      0.761      0.449      -0.123       0.275\n",
            "x5            -0.2232      0.108     -2.063      0.042      -0.438      -0.008\n",
            "x6            -0.0466      0.094     -0.497      0.621      -0.233       0.140\n",
            "x7            -0.0124      0.115     -0.108      0.914      -0.241       0.216\n",
            "==============================================================================\n",
            "Omnibus:                        1.739   Durbin-Watson:                   1.924\n",
            "Prob(Omnibus):                  0.419   Jarque-Bera (JB):                1.521\n",
            "Skew:                          -0.163   Prob(JB):                        0.467\n",
            "Kurtosis:                       2.492   Cond. No.                         2.00\n",
            "==============================================================================\n",
            "\n",
            "Notes:\n",
            "[1] Standard Errors assume that the covariance matrix of the errors is correctly specified.\n"
          ]
        }
      ]
    }
  ]
}